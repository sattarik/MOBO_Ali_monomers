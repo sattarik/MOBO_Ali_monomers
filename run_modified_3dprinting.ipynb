{
 "cells": [
  {
   "cell_type": "code",
   "execution_count": 1,
   "metadata": {},
   "outputs": [
    {
     "name": "stderr",
     "output_type": "stream",
     "text": [
      "/home/kianoosh/anaconda3/envs/autooed/lib/python3.9/site-packages/tqdm/auto.py:21: TqdmWarning: IProgress not found. Please update jupyter and ipywidgets. See https://ipywidgets.readthedocs.io/en/stable/user_install.html\n",
      "  from .autonotebook import tqdm as notebook_tqdm\n"
     ]
    }
   ],
   "source": [
    "#!/usr/bin/env python\n",
    "import time\n",
    "import os\n",
    "import io\n",
    "\n",
    "from random import seed\n",
    "from random import randint\n",
    "\n",
    "from argparse import ArgumentParser, Namespace\n",
    "import yaml\n",
    "from multiprocessing import cpu_count\n",
    "\n",
    "import matplotlib.pyplot as plt\n",
    "\n",
    "# default is to maximize the objectives\n",
    "import time as time\n",
    "import copy\n",
    "#get_ipython().run_line_magic('matplotlib', 'inline')\n",
    "import matplotlib.pyplot as plt\n",
    "import pandas as pd\n",
    "import seaborn as sns\n",
    "import math\n",
    "from scipy.stats import norm\n",
    "\n",
    "# example of a gaussian process surrogate function\n",
    "from math import sin\n",
    "from math import pi\n",
    "import numpy as np\n",
    "from numpy import arange\n",
    "from numpy import asarray\n",
    "from numpy.random import normal\n",
    "from numpy.random import uniform\n",
    "from numpy.random import random\n",
    "from numpy import cov\n",
    "from numpy import mean\n",
    "from numpy import std\n",
    "\n",
    "from warnings import catch_warnings\n",
    "from warnings import simplefilter\n",
    "\n",
    "\n",
    "from autooed.utils.sampling import lhs\n",
    "import random\n",
    "#import xgboost as xgb\n",
    "#from xgboost import XGBRegressor\n",
    "#from xgboost import plot_tree\n",
    "from sklearn import linear_model\n",
    "from sklearn import ensemble\n",
    "from sklearn.tree import DecisionTreeRegressor\n",
    "from sklearn.model_selection import GridSearchCV\n",
    "from sklearn.model_selection import train_test_split\n",
    "from sklearn import preprocessing\n",
    "from sklearn.pipeline import make_pipeline\n",
    "from sklearn.metrics import r2_score, mean_squared_error\n",
    "from sklearn.tree import export_graphviz\n",
    "from sklearn import svm\n",
    "from sklearn.neural_network import MLPRegressor\n",
    "from sklearn.neighbors import KNeighborsRegressor\n",
    "from sklearn.model_selection import LeaveOneOut\n",
    "from sklearn.metrics import mean_absolute_error, accuracy_score\n",
    "#from sklearn.inspection import partial_dependence, plot_partial_dependence\n",
    "from sklearn.decomposition import PCA\n",
    "from sklearn.gaussian_process import GaussianProcessRegressor\n",
    "from sklearn.ensemble import RandomForestRegressor, RandomForestClassifier\n",
    "# loocv to manually evaluate the performance of a random forest classifier\n",
    "from sklearn.model_selection import LeaveOneOut, cross_val_score\n",
    "\n",
    "from scipy.stats import pearsonr as pearsonr\n",
    "from scipy import ndimage, misc\n",
    "import pickle\n",
    "import re\n",
    "#from rdkit import Chem\n",
    "#from rdkit.Chem import AllChem\n",
    "#from rdkit.Chem import Descriptors\n",
    "#from chainer_chemistry.datasets.molnet import get_molnet_dataset\n",
    "# the package is in the same directory\n",
    "# get Today's date from python!\n",
    "from datetime import datetime\n",
    "from autooed.utils.sampling import lhs\n",
    "from autooed.problem import build_problem\n",
    "from autooed.mobo import build_algorithm\n",
    "from autooed.utils.seed import set_seed\n",
    "from autooed.utils.initialization import generate_random_initial_samples, load_provided_initial_samples\n",
    "from autooed.utils.plot import plot_performance_space, plot_performance_metric, plot_performance_space_diffcolor\n",
    "from autooed.utils.plot import plot_performance_space\n",
    "from argparse import ArgumentParser, Namespace\n",
    "from arguments import get_args"
   ]
  },
  {
   "cell_type": "code",
   "execution_count": 2,
   "metadata": {},
   "outputs": [],
   "source": [
    "### Start the real optimization\n",
    "# Change the default values for new argument\n",
    "def get_general_args(args=None):\n",
    "    '''\n",
    "    General arguments: problem and algorithm description, experiment settings\n",
    "    '''\n",
    "    parser = ArgumentParser()\n",
    "\n",
    "    parser.add_argument('--problem', type=str, default='printing3d_dlp', \n",
    "        help='optimization problem')\n",
    "    parser.add_argument('--algo', type=str, default='tsemo',\n",
    "        help='type of algorithm to use with some predefined arguments, or custom arguments')\n",
    "    parser.add_argument('--seed', type=int, default=10,\n",
    "        help='the specific seed to run')\n",
    "    parser.add_argument('--batch-size', type=int, default=1, \n",
    "        help='size of the batch in optimization')\n",
    "    parser.add_argument('--n-init-sample', type=int, default=0, \n",
    "        help='number of initial design samples')\n",
    "    parser.add_argument('--n-total-sample', type=int, default=26, \n",
    "        help='number of total design samples (budget)')\n",
    "\n",
    "    args, _ = parser.parse_known_args(args)\n",
    "    return args\n",
    "\n",
    "\n",
    "def get_surroagte_args(args=None):\n",
    "    '''\n",
    "    Arguments for fitting the surrogate model\n",
    "    '''\n",
    "    parser = ArgumentParser()\n",
    "\n",
    "    parser.add_argument('--surrogate', type=str, \n",
    "        choices=['gp', 'nn', 'bnn'], default='gp', \n",
    "        help='type of the surrogate model')\n",
    "\n",
    "    args, _ = parser.parse_known_args(args)\n",
    "    return args\n",
    "\n",
    "\n",
    "def get_acquisition_args(args=None):\n",
    "    '''\n",
    "    Arguments for acquisition function\n",
    "    '''\n",
    "    parser = ArgumentParser()\n",
    "\n",
    "    parser.add_argument('--acquisition', type=str,  \n",
    "        choices=['identity', 'pi', 'ei', 'ucb', 'ts'], default='ts', \n",
    "        help='type of the acquisition function')\n",
    "\n",
    "    args, _ = parser.parse_known_args(args)\n",
    "    return args\n",
    "\n",
    "\n",
    "def get_solver_args(args=None):\n",
    "    '''\n",
    "    Arguments for multi-objective solver\n",
    "    '''\n",
    "    parser = ArgumentParser()\n",
    "\n",
    "    # general solver\n",
    "    parser.add_argument('--solver', type=str, \n",
    "        choices=['nsga2', 'moead', 'parego', 'discovery', 'ga', 'cmaes'], default='nsga2', \n",
    "        help='type of the multiobjective solver')\n",
    "    parser.add_argument('--n-process', type=int, default=2,\n",
    "        help='number of processes to be used for parallelization')\n",
    "\n",
    "    args, _ = parser.parse_known_args(args)\n",
    "    return args\n",
    "\n",
    "\n",
    "def get_selection_args(args=None):\n",
    "    '''\n",
    "    Arguments for sample selection\n",
    "    '''\n",
    "    parser = ArgumentParser()\n",
    "\n",
    "    parser.add_argument('--selection', type=str,\n",
    "        choices=['direct', 'hvi', 'random', 'uncertainty'], default='hvi', \n",
    "        help='type of selection method for new batch')\n",
    "\n",
    "    args, _ = parser.parse_known_args(args)\n",
    "    return args\n",
    "\n",
    "def get_args():\n",
    "    '''\n",
    "    Get arguments from all components\n",
    "    You can specify args-path argument to directly load arguments from specified yaml file\n",
    "    '''\n",
    "    parser = ArgumentParser()\n",
    "    parser.add_argument('--args-path', type=str, default=None,\n",
    "        help='used for directly loading arguments from path of argument file')\n",
    "    args, _ = parser.parse_known_args()\n",
    "\n",
    "    if args.args_path is None:\n",
    "\n",
    "        general_args = get_general_args()\n",
    "        surroagte_args = get_surroagte_args()\n",
    "        acquisition_args = get_acquisition_args()\n",
    "        solver_args = get_solver_args()\n",
    "        selection_args = get_selection_args()\n",
    "\n",
    "        module_cfg = {\n",
    "            'surrogate': vars(surroagte_args),\n",
    "            'acquisition': vars(acquisition_args),\n",
    "            'solver': vars(solver_args),\n",
    "            'selection': vars(selection_args),\n",
    "        }\n",
    "\n",
    "    else:\n",
    "        \n",
    "        with open(args.args_path, 'r') as f:\n",
    "            all_args = yaml.load(f)\n",
    "        \n",
    "        general_args = Namespace(**all_args['general'])\n",
    "        module_cfg = all_args.copy()\n",
    "        module_cfg.pop('general')\n",
    "\n",
    "    return general_args, module_cfg"
   ]
  },
  {
   "cell_type": "code",
   "execution_count": 3,
   "metadata": {},
   "outputs": [
    {
     "name": "stdout",
     "output_type": "stream",
     "text": [
      "10\n",
      "========== Problem Definition ==========\n",
      "# name: printing3d_dlp\n",
      "# n_var: 2\n",
      "# n_obj: 2\n",
      "# n_constr: 1\n",
      "\n",
      "========== Algorithm Setup ==========\n",
      "# algorithm: TSEMO\n",
      "# surrogate: GaussianProcess\n",
      "# acquisition: ThompsonSampling\n",
      "# solver: NSGA2\n",
      "# selection: HypervolumeImprovement\n",
      "\n",
      "read X (19, 2)\n",
      "read Y (19, 2)\n"
     ]
    },
    {
     "name": "stderr",
     "output_type": "stream",
     "text": [
      "/home/kianoosh/anaconda3/envs/autooed/lib/python3.9/site-packages/sklearn/gaussian_process/kernels.py:420: ConvergenceWarning: The optimal value found for dimension 0 of parameter k2__constant_value is close to the specified lower bound 0.0024787521766663585. Decreasing the bound and calling fit again may find a better value.\n",
      "  warnings.warn(\n",
      "/home/kianoosh/anaconda3/envs/autooed/lib/python3.9/site-packages/sklearn/gaussian_process/kernels.py:420: ConvergenceWarning: The optimal value found for dimension 0 of parameter k2__constant_value is close to the specified lower bound 0.0024787521766663585. Decreasing the bound and calling fit again may find a better value.\n",
      "  warnings.warn(\n",
      "/home/kianoosh/anaconda3/envs/autooed/lib/python3.9/site-packages/sklearn/gaussian_process/kernels.py:420: ConvergenceWarning: The optimal value found for dimension 0 of parameter k2__constant_value is close to the specified lower bound 0.0024787521766663585. Decreasing the bound and calling fit again may find a better value.\n",
      "  warnings.warn(\n",
      "/home/kianoosh/anaconda3/envs/autooed/lib/python3.9/site-packages/sklearn/gaussian_process/kernels.py:420: ConvergenceWarning: The optimal value found for dimension 0 of parameter k2__constant_value is close to the specified lower bound 0.0024787521766663585. Decreasing the bound and calling fit again may find a better value.\n",
      "  warnings.warn(\n"
     ]
    },
    {
     "name": "stdout",
     "output_type": "stream",
     "text": [
      "[[49 12]]\n",
      "14.081109046936035\n",
      "20/26 complete\n",
      "41.795820474624634\n"
     ]
    },
    {
     "name": "stderr",
     "output_type": "stream",
     "text": [
      "/home/kianoosh/anaconda3/envs/autooed/lib/python3.9/site-packages/sklearn/gaussian_process/kernels.py:420: ConvergenceWarning: The optimal value found for dimension 0 of parameter k2__constant_value is close to the specified lower bound 0.0024787521766663585. Decreasing the bound and calling fit again may find a better value.\n",
      "  warnings.warn(\n",
      "/home/kianoosh/anaconda3/envs/autooed/lib/python3.9/site-packages/sklearn/gaussian_process/kernels.py:420: ConvergenceWarning: The optimal value found for dimension 0 of parameter k2__constant_value is close to the specified lower bound 0.0024787521766663585. Decreasing the bound and calling fit again may find a better value.\n",
      "  warnings.warn(\n",
      "/home/kianoosh/anaconda3/envs/autooed/lib/python3.9/site-packages/sklearn/gaussian_process/kernels.py:420: ConvergenceWarning: The optimal value found for dimension 0 of parameter k2__constant_value is close to the specified lower bound 0.0024787521766663585. Decreasing the bound and calling fit again may find a better value.\n",
      "  warnings.warn(\n",
      "/home/kianoosh/anaconda3/envs/autooed/lib/python3.9/site-packages/sklearn/gaussian_process/kernels.py:420: ConvergenceWarning: The optimal value found for dimension 0 of parameter k2__constant_value is close to the specified lower bound 0.0024787521766663585. Decreasing the bound and calling fit again may find a better value.\n",
      "  warnings.warn(\n"
     ]
    },
    {
     "name": "stdout",
     "output_type": "stream",
     "text": [
      "[[48 13]]\n",
      "15.168246269226074\n",
      "21/26 complete\n",
      "24.868826866149902\n"
     ]
    },
    {
     "name": "stderr",
     "output_type": "stream",
     "text": [
      "/home/kianoosh/anaconda3/envs/autooed/lib/python3.9/site-packages/sklearn/gaussian_process/kernels.py:420: ConvergenceWarning: The optimal value found for dimension 0 of parameter k2__constant_value is close to the specified lower bound 0.0024787521766663585. Decreasing the bound and calling fit again may find a better value.\n",
      "  warnings.warn(\n",
      "/home/kianoosh/anaconda3/envs/autooed/lib/python3.9/site-packages/sklearn/gaussian_process/kernels.py:420: ConvergenceWarning: The optimal value found for dimension 0 of parameter k2__constant_value is close to the specified lower bound 0.0024787521766663585. Decreasing the bound and calling fit again may find a better value.\n",
      "  warnings.warn(\n",
      "/home/kianoosh/anaconda3/envs/autooed/lib/python3.9/site-packages/sklearn/gaussian_process/kernels.py:420: ConvergenceWarning: The optimal value found for dimension 0 of parameter k2__constant_value is close to the specified lower bound 0.0024787521766663585. Decreasing the bound and calling fit again may find a better value.\n",
      "  warnings.warn(\n",
      "/home/kianoosh/anaconda3/envs/autooed/lib/python3.9/site-packages/sklearn/gaussian_process/kernels.py:420: ConvergenceWarning: The optimal value found for dimension 0 of parameter k2__constant_value is close to the specified lower bound 0.0024787521766663585. Decreasing the bound and calling fit again may find a better value.\n",
      "  warnings.warn(\n"
     ]
    },
    {
     "name": "stdout",
     "output_type": "stream",
     "text": [
      "[[41 13]]\n",
      "14.357912063598633\n",
      "22/26 complete\n",
      "24.278103828430176\n"
     ]
    },
    {
     "name": "stderr",
     "output_type": "stream",
     "text": [
      "/home/kianoosh/anaconda3/envs/autooed/lib/python3.9/site-packages/sklearn/gaussian_process/kernels.py:420: ConvergenceWarning: The optimal value found for dimension 0 of parameter k2__constant_value is close to the specified lower bound 0.0024787521766663585. Decreasing the bound and calling fit again may find a better value.\n",
      "  warnings.warn(\n",
      "/home/kianoosh/anaconda3/envs/autooed/lib/python3.9/site-packages/sklearn/gaussian_process/kernels.py:420: ConvergenceWarning: The optimal value found for dimension 0 of parameter k2__constant_value is close to the specified lower bound 0.0024787521766663585. Decreasing the bound and calling fit again may find a better value.\n",
      "  warnings.warn(\n"
     ]
    },
    {
     "name": "stdout",
     "output_type": "stream",
     "text": [
      "[[42 13]]\n",
      "15.069533348083496\n",
      "23/26 complete\n",
      "19.291882276535034\n"
     ]
    },
    {
     "name": "stderr",
     "output_type": "stream",
     "text": [
      "/home/kianoosh/anaconda3/envs/autooed/lib/python3.9/site-packages/sklearn/gaussian_process/kernels.py:420: ConvergenceWarning: The optimal value found for dimension 0 of parameter k2__constant_value is close to the specified lower bound 0.0024787521766663585. Decreasing the bound and calling fit again may find a better value.\n",
      "  warnings.warn(\n",
      "/home/kianoosh/anaconda3/envs/autooed/lib/python3.9/site-packages/sklearn/gaussian_process/kernels.py:420: ConvergenceWarning: The optimal value found for dimension 0 of parameter k2__constant_value is close to the specified lower bound 0.0024787521766663585. Decreasing the bound and calling fit again may find a better value.\n",
      "  warnings.warn(\n"
     ]
    },
    {
     "name": "stdout",
     "output_type": "stream",
     "text": [
      "[[49 14]]\n",
      "16.23124408721924\n",
      "24/26 complete\n",
      "20.253071069717407\n"
     ]
    },
    {
     "name": "stderr",
     "output_type": "stream",
     "text": [
      "/home/kianoosh/anaconda3/envs/autooed/lib/python3.9/site-packages/sklearn/gaussian_process/kernels.py:420: ConvergenceWarning: The optimal value found for dimension 0 of parameter k2__constant_value is close to the specified lower bound 0.0024787521766663585. Decreasing the bound and calling fit again may find a better value.\n",
      "  warnings.warn(\n",
      "/home/kianoosh/anaconda3/envs/autooed/lib/python3.9/site-packages/sklearn/gaussian_process/kernels.py:420: ConvergenceWarning: The optimal value found for dimension 0 of parameter k2__constant_value is close to the specified lower bound 0.0024787521766663585. Decreasing the bound and calling fit again may find a better value.\n",
      "  warnings.warn(\n"
     ]
    },
    {
     "name": "stdout",
     "output_type": "stream",
     "text": [
      "[[47 14]]\n",
      "15.729207515716553\n",
      "25/26 complete\n",
      "1086.7950007915497\n",
      "[[47 10]]\n",
      "15.9675452709198\n",
      "26/26 complete\n",
      "43.937188148498535\n"
     ]
    }
   ],
   "source": [
    "# load arguments\n",
    "args, module_cfg = get_args()\n",
    "print (args.seed)\n",
    "# set random seed\n",
    "set_seed(args.seed)\n",
    "\n",
    "# build problem\n",
    "problem = build_problem(args.problem)\n",
    "print(problem)\n",
    "\n",
    "# build algorithm\n",
    "algorithm = build_algorithm(args.algo, problem, module_cfg)\n",
    "print(algorithm)\n",
    "\n",
    "# read the initial samples, X is 2 Ratios, Y is two objective: \n",
    "# Strength, Toughness.\n",
    "path = ['./Ali_20230426_X.csv', \n",
    "        './Ali_20230426_Y.csv']\n",
    "X, Y = load_provided_initial_samples(path)\n",
    "# we minimze the Objectives, so multiply -1\n",
    "Y = -Y\n",
    "print ('read X', X.shape)\n",
    "print ('read Y', Y.shape)\n",
    "\n",
    "X0 = X\n",
    "Y0 = Y\n",
    "# optimization\n",
    "while len(X) < args.n_total_sample:\n",
    "    start = time.time()\n",
    "    # propose design samples\n",
    "    X_next = algorithm.optimize(X, Y, X_busy=None, batch_size=1)\n",
    "    print (X_next)\n",
    "    print (time.time() - start)\n",
    "    # evaluate proposed samples\n",
    "    Y_next = np.array([problem.evaluate_objective(x) for x in X_next])\n",
    "    # combine into dataset\n",
    "    X = np.vstack([X, X_next])\n",
    "    Y = np.vstack([Y, Y_next])\n",
    "    for (x_next, y_next) in zip(X_next, Y_next):\n",
    "        new_sample = []\n",
    "        new_sample.append(y_next[0])\n",
    "        new_sample.append(y_next[1])\n",
    "        new_sample = str(new_sample)\n",
    "        new_sample = new_sample.replace(\"[\", \"\")\n",
    "        new_sample = new_sample.replace(\"]\", \"\")\n",
    "        new_sample = new_sample + \"\\n\"\n",
    "        with open('new_evaluated.csv','a') as fd:\n",
    "                fd.write(new_sample)        \n",
    "    print(f'{len(X)}/{args.n_total_sample} complete')\n",
    "    print (time.time() - start)"
   ]
  },
  {
   "cell_type": "code",
   "execution_count": 4,
   "metadata": {},
   "outputs": [
    {
     "data": {
      "text/plain": [
       "array([[-12., -15.],\n",
       "       [-16., -20.],\n",
       "       [-16., -13.],\n",
       "       [-16., -20.],\n",
       "       [-15., -12.],\n",
       "       [-25., -30.],\n",
       "       [-12., -25.]])"
      ]
     },
     "execution_count": 4,
     "metadata": {},
     "output_type": "execute_result"
    }
   ],
   "source": [
    "Y[Y0.shape[0]:, :]"
   ]
  },
  {
   "cell_type": "code",
   "execution_count": 5,
   "metadata": {},
   "outputs": [
    {
     "data": {
      "image/png": "[encoded data removed]",
      "text/plain": [
       "<Figure size 640x480 with 1 Axes>"
      ]
     },
     "metadata": {},
     "output_type": "display_data"
    },
    {
     "data": {
      "image/png": "[encoded data removed]",
      "text/plain": [
       "<Figure size 500x400 with 1 Axes>"
      ]
     },
     "metadata": {},
     "output_type": "display_data"
    },
    {
     "data": {
      "image/png": "[encoded data removed]",
      "text/plain": [
       "<Figure size 600x400 with 1 Axes>"
      ]
     },
     "metadata": {},
     "output_type": "display_data"
    }
   ],
   "source": [
    "# plot\n",
    "Y_eval = Y[Y0.shape[0]:, :]\n",
    "plot_performance_space_diffcolor(Y0=-Y0, Y_eval=-Y_eval)\n",
    "plot_performance_metric(Y, problem.obj_type)"
   ]
  },
  {
   "cell_type": "code",
   "execution_count": 58,
   "metadata": {},
   "outputs": [],
   "source": [
    "df_dlp_yuch = pd.read_csv('Untitled 1.csv')\n",
    "Strength = df_dlp_yuch['Strength']\n",
    "Toughness = df_dlp_yuch['Toughness']\n",
    "Y = []\n",
    "for i, j in zip(Strength, Toughness):\n",
    "    Y.append([i, j])\n",
    "Y = np.array(Y)\n",
    "#Y = np.concatenate((np.array (df_dlp_yuch['Strength']).ravel(), np.array(df_dlp_yuch['Toughness']).ravel()), axis=0)"
   ]
  },
  {
   "cell_type": "code",
   "execution_count": 59,
   "metadata": {},
   "outputs": [
    {
     "data": {
      "text/plain": [
       "array([[-29.22,  -0.62],\n",
       "       [-30.68,  -0.7 ],\n",
       "       [-36.98,  -0.94],\n",
       "       [-26.97, -17.53],\n",
       "       [-32.56,  -1.35],\n",
       "       [-24.84,  -5.53],\n",
       "       [-30.7 , -17.05],\n",
       "       [-32.28,  -1.33],\n",
       "       [ -6.34,  -9.2 ],\n",
       "       [-20.44,  -0.53],\n",
       "       [ -8.53, -15.26],\n",
       "       [-16.59,  -0.75],\n",
       "       [-21.56,  -0.59],\n",
       "       [-42.27,  -1.49],\n",
       "       [-15.1 , -25.76],\n",
       "       [-16.05, -21.46],\n",
       "       [-31.22, -22.56],\n",
       "       [-20.18, -22.54],\n",
       "       [ -3.25,  -3.64],\n",
       "       [-15.97,  -1.12],\n",
       "       [-12.83,  -0.23],\n",
       "       [-21.08,  -1.18],\n",
       "       [-28.74,  -1.09],\n",
       "       [-14.71,  -9.53],\n",
       "       [-21.95,  -3.3 ],\n",
       "       [-10.24,  -0.38],\n",
       "       [-20.56,  -2.74],\n",
       "       [-12.7 ,  -0.26],\n",
       "       [-25.61,  -1.15],\n",
       "       [-17.67, -22.87],\n",
       "       [-10.77,  -6.  ],\n",
       "       [-29.27,  -4.92],\n",
       "       [-11.8 ,  -0.91],\n",
       "       [-38.83,  -0.92],\n",
       "       [-21.46,  -0.81],\n",
       "       [-11.76, -25.05],\n",
       "       [-17.82, -25.02],\n",
       "       [-49.99,  -2.75],\n",
       "       [-22.32,  -0.8 ],\n",
       "       [-16.94,  -0.34],\n",
       "       [-11.03,  -0.2 ],\n",
       "       [-15.17,  -0.59],\n",
       "       [  0.  ,   0.  ],\n",
       "       [-25.8 ,  -0.97],\n",
       "       [-26.82,  -0.76],\n",
       "       [-15.39,  -0.16],\n",
       "       [-32.9 ,  -0.96],\n",
       "       [-31.66,  -0.47],\n",
       "       [-38.4 ,  -2.12],\n",
       "       [-34.99,  -0.59],\n",
       "       [-39.88,  -1.33],\n",
       "       [-14.82, -23.17],\n",
       "       [-43.74,  -1.38],\n",
       "       [-41.96,  -0.93],\n",
       "       [-24.81,  -0.49],\n",
       "       [-26.57,  -0.61],\n",
       "       [-35.7 ,  -0.63],\n",
       "       [-35.32,  -0.82],\n",
       "       [-43.7 ,  -1.11],\n",
       "       [  0.  ,   0.  ],\n",
       "       [-42.79,  -0.88],\n",
       "       [-36.1 ,  -0.73]])"
      ]
     },
     "execution_count": 59,
     "metadata": {},
     "output_type": "execute_result"
    }
   ],
   "source": [
    "Y"
   ]
  },
  {
   "cell_type": "code",
   "execution_count": 60,
   "metadata": {},
   "outputs": [
    {
     "data": {
      "text/plain": [
       "(62, 2)"
      ]
     },
     "execution_count": 60,
     "metadata": {},
     "output_type": "execute_result"
    }
   ],
   "source": [
    "Y.shape"
   ]
  },
  {
   "cell_type": "code",
   "execution_count": 61,
   "metadata": {},
   "outputs": [
    {
     "data": {
      "image/png": "[encoded data removed]",
      "text/plain": [
       "<Figure size 500x400 with 1 Axes>"
      ]
     },
     "metadata": {},
     "output_type": "display_data"
    },
    {
     "data": {
      "image/png": "[encoded data removed]",
      "text/plain": [
       "<Figure size 600x400 with 1 Axes>"
      ]
     },
     "metadata": {},
     "output_type": "display_data"
    }
   ],
   "source": [
    "plot_performance_metric(Y, problem.obj_type)"
   ]
  },
  {
   "cell_type": "code",
   "execution_count": 42,
   "metadata": {},
   "outputs": [
    {
     "data": {
      "text/plain": [
       "array([[-29.22, -30.68],\n",
       "       [-36.98, -26.97],\n",
       "       [-32.56, -24.84],\n",
       "       [-30.7 , -32.28],\n",
       "       [ -6.34, -20.44],\n",
       "       [ -8.53, -16.59],\n",
       "       [-21.56, -42.27],\n",
       "       [-15.1 , -16.05],\n",
       "       [-31.22, -20.18],\n",
       "       [ -3.25, -15.97],\n",
       "       [-12.83, -21.08],\n",
       "       [-28.74, -14.71],\n",
       "       [-21.95, -10.24],\n",
       "       [-20.56, -12.7 ],\n",
       "       [-25.61, -17.67],\n",
       "       [-10.77, -29.27],\n",
       "       [-11.8 , -38.83],\n",
       "       [-21.46, -11.76],\n",
       "       [-17.82, -49.99],\n",
       "       [-22.32, -16.94],\n",
       "       [-11.03, -15.17],\n",
       "       [  0.  , -25.8 ],\n",
       "       [-26.82, -15.39],\n",
       "       [-32.9 , -31.66],\n",
       "       [-38.4 , -34.99],\n",
       "       [-39.88, -14.82],\n",
       "       [-43.74, -41.96],\n",
       "       [-24.81, -26.57],\n",
       "       [-35.7 , -35.32],\n",
       "       [-43.7 ,   0.  ],\n",
       "       [-42.79, -36.1 ],\n",
       "       [ -0.62,  -0.7 ],\n",
       "       [ -0.94, -17.53],\n",
       "       [ -1.35,  -5.53],\n",
       "       [-17.05,  -1.33],\n",
       "       [ -9.2 ,  -0.53],\n",
       "       [-15.26,  -0.75],\n",
       "       [ -0.59,  -1.49],\n",
       "       [-25.76, -21.46],\n",
       "       [-22.56, -22.54],\n",
       "       [ -3.64,  -1.12],\n",
       "       [ -0.23,  -1.18],\n",
       "       [ -1.09,  -9.53],\n",
       "       [ -3.3 ,  -0.38],\n",
       "       [ -2.74,  -0.26],\n",
       "       [ -1.15, -22.87],\n",
       "       [ -6.  ,  -4.92],\n",
       "       [ -0.91,  -0.92],\n",
       "       [ -0.81, -25.05],\n",
       "       [-25.02,  -2.75],\n",
       "       [ -0.8 ,  -0.34],\n",
       "       [ -0.2 ,  -0.59],\n",
       "       [  0.  ,  -0.97],\n",
       "       [ -0.76,  -0.16],\n",
       "       [ -0.96,  -0.47],\n",
       "       [ -2.12,  -0.59],\n",
       "       [ -1.33, -23.17],\n",
       "       [ -1.38,  -0.93],\n",
       "       [ -0.49,  -0.61],\n",
       "       [ -0.63,  -0.82],\n",
       "       [ -1.11,   0.  ],\n",
       "       [ -0.88,  -0.73]])"
      ]
     },
     "execution_count": 42,
     "metadata": {},
     "output_type": "execute_result"
    }
   ],
   "source": [
    "Y"
   ]
  }
 ],
 "metadata": {
  "kernelspec": {
   "display_name": "autooed",
   "language": "python",
   "name": "python3"
  },
  "language_info": {
   "codemirror_mode": {
    "name": "ipython",
    "version": 3
   },
   "file_extension": ".py",
   "mimetype": "text/x-python",
   "name": "python",
   "nbconvert_exporter": "python",
   "pygments_lexer": "ipython3",
   "version": "3.9.16"
  },
  "orig_nbformat": 4
 },
 "nbformat": 4,
 "nbformat_minor": 2
}
